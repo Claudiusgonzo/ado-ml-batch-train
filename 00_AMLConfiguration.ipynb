{
 "cells": [
  {
   "cell_type": "markdown",
   "metadata": {},
   "source": [
    "Copyright (c) Microsoft Corporation. All rights reserved.\n",
    "\n",
    "Licensed under the MIT License."
   ]
  },
  {
   "cell_type": "markdown",
   "metadata": {},
   "source": [
    "# Installation and configuration\n",
    "This notebook configures the notebooks in this tutorial to connect to an Azure Machine Learning (AML) Workspace.  You can use an existing workspace or create a new one."
   ]
  },
  {
   "cell_type": "code",
   "execution_count": 1,
   "metadata": {
    "pycharm": {
     "is_executing": false
    }
   },
   "outputs": [],
   "source": [
    "from pathlib import Path\n",
    "\n",
    "import azureml.core\n",
    "from AIHelpers.utilities import get_auth\n",
    "from azureml.core import Workspace, Datastore"
   ]
  },
  {
   "cell_type": "markdown",
   "metadata": {},
   "source": [
    "## Prerequisites"
   ]
  },
  {
   "cell_type": "markdown",
   "metadata": {},
   "source": [
    "If you have already completed the prerequisites and selected the correct Kernel for this notebook, the AML Python SDK is already installed. Let's check the AML SDK version."
   ]
  },
  {
   "cell_type": "code",
   "execution_count": 25,
   "metadata": {
    "pycharm": {
     "is_executing": false
    }
   },
   "outputs": [
    {
     "name": "stdout",
     "text": [
      "AML SDK Version: 1.0.76\n"
     ],
     "output_type": "stream"
    }
   ],
   "source": [
    "print(\"AML SDK Version:\", azureml.core.VERSION)"
   ]
  },
  {
   "cell_type": "markdown",
   "metadata": {},
   "source": [
    "## Set up your Azure Machine Learning workspace"
   ]
  },
  {
   "cell_type": "markdown",
   "metadata": {},
   "source": [
    "To create or access an Azure ML Workspace, you will need the following information:\n",
    "\n",
    "* Your subscription id\n",
    "* A resource group name\n",
    "* A name for your workspace\n",
    "* A region for your workspace\n",
    "\n",
    "**Note**: As with other Azure services, there are limits on certain resources like cluster size associated with the Azure Machine Learning service. Please read [this article](https://docs.microsoft.com/en-us/azure/machine-learning/service/how-to-manage-quotas) on the default limits and how to request more quota."
   ]
  },
  {
   "cell_type": "markdown",
   "metadata": {},
   "source": [
    "If you have a workspace created already, you need to get your subscription and workspace information. You can find the values for those by visiting your workspace in the [Azure portal](http://portal.azure.com). If you don't have a workspace, the create workspace command in the next section will create a resource group and a workspace using the names you provide."
   ]
  },
  {
   "cell_type": "markdown",
   "metadata": {},
   "source": [
    "Replace the values in the following cell with your information. If you would like to use service principal authentication as described [here](https://github.com/Azure/MachineLearningNotebooks/blob/master/how-to-use-azureml/manage-azureml-service/authentication-in-azureml/authentication-in-azure-ml.ipynb) make sure you provide the optional values as well. "
   ]
  },
  {
   "cell_type": "code",
   "execution_count": null,
   "outputs": [],
   "source": [
    "from dotenv import   find_dotenv\n",
    "env_path = find_dotenv()\n",
    "if env_path == \"\":\n",
    "    Path(\".env\").touch()\n",
    "    env_path = find_dotenv()"
   ],
   "metadata": {
    "collapsed": false,
    "pycharm": {
     "name": "#%%\n"
    }
   }
  },
  {
   "cell_type": "code",
   "execution_count": 7,
   "metadata": {
    "tags": [
     "parameters"
    ],
    "pycharm": {
     "is_executing": false
    }
   },
   "outputs": [
    {
     "name": "stderr",
     "text": [
      "C:\\Users\\dcibo\\Anaconda3\\envs\\ado-ml-batch-train\\lib\\site-packages\\ipykernel_launcher.py:4: YAMLLoadWarning: calling yaml.load() without Loader=... is deprecated, as the default Loader is unsafe. Please read https://msg.pyyaml.org/load for full details.\n",
      "  after removing the cwd from sys.path.\n"
     ],
     "output_type": "stream"
    }
   ],
   "source": [
    "import yaml\n",
    "\n",
    "with open(\"workspace_conf.yml\", 'r') as ymlfile:\n",
    "    cfg = yaml.load(ymlfile)"
   ]
  },
  {
   "cell_type": "code",
   "execution_count": 18,
   "outputs": [],
   "source": [
    "# Azure resources\n",
    "subscription_id = cfg['subscription_id']\n",
    "resource_group = cfg['resource_group']  \n",
    "workspace_name = cfg['workspace_name']  \n",
    "workspace_region = cfg['workspace_region']\n",
    "image_name = cfg['image_name']  # e.g. image_name = \"{{cookiecutter.image_name}} (avoid underscore in names)\"\n",
    "\n",
    "sql_server_name=cfg['sql_server_name']    # Name of Azure SQL server\n",
    "sql_database_name=cfg['sql_database_name']  # Name of Azure SQL database\n",
    "sql_username=cfg['sql_username']        # The username of the database user to access the database.\n",
    "sql_password=cfg['sql_password']        # The password of the database user to access the database.\n",
    "\n",
    "datastore_rg = cfg['datastore_rg']\n",
    "container_name=cfg['container_name']    # Name of Azure blob container\n",
    "account_name=cfg['account_name']    # Storage account name\n",
    "account_key=cfg['account_key']         # Storage account key\n",
    "\n",
    "tenant_id = \"YOUR_TENANT_ID\" # Optional for service principal authentication\n",
    "username = \"YOUR_SERVICE_PRINCIPAL_APPLICATION_ID\" # Optional for service principal authentication\n",
    "password = \"YOUR_SERVICE_PRINCIPAL_PASSWORD\" # Optional for service principal authentication\n",
    "storageConnString = \"YOUR_STORAGE_CONNECTION_STRING\"\n"
   ],
   "metadata": {
    "collapsed": false,
    "pycharm": {
     "name": "#%%\n",
     "is_executing": false
    }
   }
  },
  {
   "cell_type": "code",
   "execution_count": 19,
   "metadata": {
    "pycharm": {
     "is_executing": false
    }
   },
   "outputs": [],
   "source": [
    "sql_datastore_name = \"ado_sql_datastore\" # Hard Code this for this example\n",
    "blob_datastore_name=\"ado_blob_datastore\""
   ]
  },
  {
   "cell_type": "markdown",
   "metadata": {},
   "source": [
    "#### Create the workspace\n",
    "This cell will create an AML workspace for you in a subscription, provided you have the correct permissions.\n",
    "\n",
    "This will fail when:\n",
    "1. You do not have permission to create a workspace in the resource group\n",
    "2. You do not have permission to create a resource group if it's non-existing.\n",
    "2. You are not a subscription owner or contributor and no Azure ML workspaces have ever been created in this subscription\n",
    "\n",
    "If workspace creation fails, please work with your IT admin to provide you with the appropriate permissions or to provision the required resources. If this cell succeeds, you're done configuring AML!  \n"
   ]
  },
  {
   "cell_type": "code",
   "execution_count": 27,
   "metadata": {
    "pycharm": {
     "is_executing": false
    }
   },
   "outputs": [],
   "source": [
    "ws = Workspace.create(\n",
    "    name=workspace_name,\n",
    "    subscription_id=subscription_id,\n",
    "    resource_group=resource_group,\n",
    "    location=workspace_region,\n",
    "    create_resource_group=True,\n",
    "    auth=get_auth(env_path),\n",
    "    exist_ok=True,\n",
    ")"
   ]
  },
  {
   "cell_type": "markdown",
   "metadata": {},
   "source": [
    "Let's check the details of the workspace."
   ]
  },
  {
   "cell_type": "code",
   "execution_count": 28,
   "metadata": {
    "pycharm": {
     "is_executing": false
    }
   },
   "outputs": [
    {
     "data": {
      "text/plain": "{'id': '/subscriptions/0ca618d2-22a8-413a-96d0-0f1b531129c3/resourceGroups/dciborow-ado-test/providers/Microsoft.MachineLearningServices/workspaces/dciborowws',\n 'name': 'dciborowws',\n 'location': 'westus',\n 'type': 'Microsoft.MachineLearningServices/workspaces',\n 'sku': 'Enterprise',\n 'workspaceid': '3db1660f-e512-4152-a3ec-387abea8b04a',\n 'description': '',\n 'friendlyName': 'dciborowws',\n 'creationTime': '2019-12-18T01:26:53.6336661+00:00',\n 'containerRegistry': '/subscriptions/0ca618d2-22a8-413a-96d0-0f1b531129c3/resourceGroups/dciborow-ado-test/providers/Microsoft.ContainerRegistry/registries/dciborowws193f0455',\n 'keyVault': '/subscriptions/0ca618d2-22a8-413a-96d0-0f1b531129c3/resourcegroups/dciborow-ado-test/providers/microsoft.keyvault/vaults/dciborowkeyvaultb9b3508b',\n 'applicationInsights': '/subscriptions/0ca618d2-22a8-413a-96d0-0f1b531129c3/resourcegroups/dciborow-ado-test/providers/microsoft.insights/components/dciborowinsights3fa1a864',\n 'identityPrincipalId': 'ccc30575-90d5-4439-a8c0-59c168b285bc',\n 'identityTenantId': '72f988bf-86f1-41af-91ab-2d7cd011db47',\n 'identityType': 'SystemAssigned',\n 'storageAccount': '/subscriptions/0ca618d2-22a8-413a-96d0-0f1b531129c3/resourcegroups/dciborow-ado-test/providers/microsoft.storage/storageaccounts/dciborowstoraged8fc14234'}"
     },
     "metadata": {},
     "output_type": "execute_result",
     "execution_count": 28
    }
   ],
   "source": [
    "ws.get_details()"
   ]
  },
  {
   "cell_type": "code",
   "execution_count": 29,
   "metadata": {
    "pycharm": {
     "name": "#%%\n",
     "is_executing": false
    }
   },
   "outputs": [],
   "source": [
    "blob_datastore = Datastore.register_azure_blob_container(workspace=ws, \n",
    "                                                         datastore_name=blob_datastore_name, \n",
    "                                                         container_name=container_name, \n",
    "                                                         account_name=account_name,\n",
    "                                                         account_key=account_key,\n",
    "                                                         resource_group=datastore_rg,\n",
    "                                                         overwrite=True)"
   ]
  },
  {
   "cell_type": "code",
   "execution_count": 30,
   "metadata": {
    "pycharm": {
     "is_executing": false
    }
   },
   "outputs": [
    {
     "data": {
      "text/plain": "{\n  \"source\": [\n    \"('ado_blob_datastore', 'ai_impact_scores.csv')\"\n  ],\n  \"definition\": [\n    \"GetDatastoreFiles\",\n    \"ParseDelimited\",\n    \"DropColumns\",\n    \"SetColumnTypes\"\n  ],\n  \"registration\": {\n    \"id\": \"cfbfaa8a-e68b-438a-9a23-be134b15c3da\",\n    \"name\": \"ai_impact_scores\",\n    \"version\": 1,\n    \"description\": \"ai subset of feedback items\",\n    \"workspace\": \"Workspace.create(name='dciborowws', subscription_id='0ca618d2-22a8-413a-96d0-0f1b531129c3', resource_group='dciborow-ado-test')\"\n  }\n}"
     },
     "metadata": {},
     "output_type": "execute_result",
     "execution_count": 30
    }
   ],
   "source": [
    "from azureml.core.dataset import Dataset\n",
    "\n",
    "datastore_paths = [(blob_datastore, 'ai_impact_scores.csv')]\n",
    " \n",
    "ai_impact_scores = Dataset.Tabular.from_delimited_files(path=datastore_paths)\n",
    "\n",
    "ai_impact_scores.register(workspace=ws,\n",
    "                          name=\"ai_impact_scores\",\n",
    "                          description = \"ai subset of feedback items\")\n"
   ]
  },
  {
   "cell_type": "code",
   "execution_count": null,
   "outputs": [],
   "source": [
    "from azureml.core.dataset import Dataset\n",
    "\n",
    "datastore_paths = [(blob_datastore, 'feedback_items.csv')]\n",
    " \n",
    "ai_impact_scores = Dataset.Tabular.from_delimited_files(path=datastore_paths)\n",
    "\n",
    "ai_impact_scores.register(workspace=ws,\n",
    "                          name=\"feedback_items_sample\",\n",
    "                          description = \"subset of feedback items from SQL\")"
   ],
   "metadata": {
    "collapsed": false,
    "pycharm": {
     "name": "#%%\n"
    }
   }
  },
  {
   "cell_type": "code",
   "execution_count": null,
   "outputs": [],
   "source": [
    "from azureml.core.dataset import Dataset\n",
    "\n",
    "datastore_paths = [(blob_datastore, 'improvements.csv')]\n",
    " \n",
    "ai_impact_scores = Dataset.Tabular.from_delimited_files(path=datastore_paths)\n",
    "\n",
    "ai_impact_scores.register(workspace=ws,\n",
    "                          name=\"improvements_sample\",\n",
    "                          description = \"subset of improvements items from SQL\")"
   ],
   "metadata": {
    "collapsed": false,
    "pycharm": {
     "name": "#%%\n"
    }
   }
  },
  {
   "cell_type": "code",
   "execution_count": 31,
   "metadata": {
    "pycharm": {
     "name": "#%%\n",
     "is_executing": false
    }
   },
   "outputs": [],
   "source": [
    "sql_datastore = Datastore.register_azure_sql_database(workspace=ws,\n",
    "                                                      datastore_name=sql_datastore_name,\n",
    "                                                      server_name=sql_server_name,\n",
    "                                                      database_name=sql_database_name,\n",
    "                                                      username=sql_username,\n",
    "                                                      password=sql_password)"
   ]
  },
  {
   "cell_type": "markdown",
   "metadata": {},
   "source": [
    "Let's write the workspace configuration for the rest of the notebooks to connect to the workspace."
   ]
  },
  {
   "cell_type": "code",
   "execution_count": 33,
   "metadata": {
    "pycharm": {
     "is_executing": false
    }
   },
   "outputs": [],
   "source": [
    "ws.write_config()"
   ]
  },
  {
   "cell_type": "markdown",
   "metadata": {},
   "source": [
    "You are now ready to move on to the [data preperation](01_DataPrep.ipynb) notebook."
   ]
  }
 ],
 "metadata": {
  "celltoolbar": "Tags",
  "kernelspec": {
   "name": "conda-env-ado-ml-batch-train-py",
   "language": "python",
   "display_name": "Python [conda env:ado-ml-batch-train] *"
  },
  "language_info": {
   "codemirror_mode": {
    "name": "ipython",
    "version": 3
   },
   "file_extension": ".py",
   "mimetype": "text/x-python",
   "name": "python",
   "nbconvert_exporter": "python",
   "pygments_lexer": "ipython3",
   "version": "3.6.7"
  },
  "pycharm": {
   "stem_cell": {
    "cell_type": "raw",
    "source": [],
    "metadata": {
     "collapsed": false
    }
   }
  }
 },
 "nbformat": 4,
 "nbformat_minor": 2
}