{
 "cells": [
  {
   "cell_type": "markdown",
   "metadata": {},
   "source": [
    "Copyright (c) Microsoft Corporation. All rights reserved.\n",
    "\n",
    "Licensed under the MIT License."
   ]
  },
  {
   "cell_type": "markdown",
   "metadata": {},
   "source": [
    "# Installation and configuration\n",
    "This notebook configures the notebooks in this tutorial to connect to an Azure Machine Learning (AML) Workspace.  You can use an existing workspace or create a new one."
   ]
  },
  {
   "cell_type": "code",
   "execution_count": 1,
   "metadata": {},
   "outputs": [],
   "source": [
    "import azureml.core\n",
    "from azureml.core import Workspace, Datastore\n",
    "from pathlib import Path\n",
    "from AIHelpers.utilities import get_auth"
   ]
  },
  {
   "cell_type": "markdown",
   "metadata": {},
   "source": [
    "## Prerequisites"
   ]
  },
  {
   "cell_type": "markdown",
   "metadata": {},
   "source": [
    "If you have already completed the prerequisites and selected the correct Kernel for this notebook, the AML Python SDK is already installed. Let's check the AML SDK version."
   ]
  },
  {
   "cell_type": "code",
   "execution_count": 2,
   "metadata": {},
   "outputs": [
    {
     "name": "stdout",
     "output_type": "stream",
     "text": [
      "AML SDK Version: 1.0.76\n"
     ]
    }
   ],
   "source": [
    "print(\"AML SDK Version:\", azureml.core.VERSION)"
   ]
  },
  {
   "cell_type": "markdown",
   "metadata": {},
   "source": [
    "## Set up your Azure Machine Learning workspace"
   ]
  },
  {
   "cell_type": "markdown",
   "metadata": {},
   "source": [
    "To create or access an Azure ML Workspace, you will need the following information:\n",
    "\n",
    "* Your subscription id\n",
    "* A resource group name\n",
    "* A name for your workspace\n",
    "* A region for your workspace\n",
    "\n",
    "**Note**: As with other Azure services, there are limits on certain resources like cluster size associated with the Azure Machine Learning service. Please read [this article](https://docs.microsoft.com/en-us/azure/machine-learning/service/how-to-manage-quotas) on the default limits and how to request more quota."
   ]
  },
  {
   "cell_type": "markdown",
   "metadata": {},
   "source": [
    "If you have a workspace created already, you need to get your subscription and workspace information. You can find the values for those by visiting your workspace in the [Azure portal](http://portal.azure.com). If you don't have a workspace, the create workspace command in the next section will create a resource group and a workspace using the names you provide."
   ]
  },
  {
   "cell_type": "markdown",
   "metadata": {},
   "source": [
    "Replace the values in the following cell with your information. If you would like to use service principal authentication as described [here](https://github.com/Azure/MachineLearningNotebooks/blob/master/how-to-use-azureml/manage-azureml-service/authentication-in-azureml/authentication-in-azure-ml.ipynb) make sure you provide the optional values as well. "
   ]
  },
  {
   "cell_type": "code",
   "execution_count": 3,
   "metadata": {},
   "outputs": [],
   "source": [
    "from dotenv import set_key, get_key, find_dotenv\n",
    "env_path = find_dotenv()\n",
    "if env_path == \"\":\n",
    "    Path(\".env\").touch()\n",
    "    env_path = find_dotenv()"
   ]
  },
  {
   "cell_type": "code",
   "execution_count": 8,
   "metadata": {
    "tags": [
     "parameters"
    ]
   },
   "outputs": [],
   "source": [
    "# Azure resources\n",
    "subscription_id = \"0ca618d2-22a8-413a-96d0-0f1b531129c3\"\n",
    "resource_group = \"dciborow-ado-test\"  \n",
    "workspace_name = \"dciborowws\"  \n",
    "workspace_region = \"westus\"\n",
    "image_name = (\n",
    "    \"dciborow_image\"\n",
    ")  # e.g. image_name = \"{{cookiecutter.image_name}} (avoid underscore in names)\"\n",
    "\n",
    "sql_datastore_name=\"\"\n",
    "sql_server_name=\"\"     # Name of Azure SQL server\n",
    "sql_database_name=\"\"   # Name of Azure SQL database\n",
    "sql_username=\"\"        # The username of the database user to access the database.\n",
    "sql_password=\"\"        # The password of the database user to access the database.\n",
    "\n",
    "blob_datastore_name=\"\" # Name of the Datastore  to workspace\n",
    "datastore_rg = \"agce-ai-mn-e2e-impact-score\"\n",
    "container_name=\"testdata\"      # Name of Azure blob container\n",
    "account_name=\"e2eimpactscore\"        # Storage account name\n",
    "account_key=\"Vd5PVsax4L9yXlfEOLw/+c+f3fK9/JU2ztFa7C43OCckCRYA5othHqeAz6x8Bs80ANX3IIPK90vBgEYNKcUieQ==\"         # Storage account key\n",
    "\n",
    "tenant_id = \"YOUR_TENANT_ID\" # Optional for service principal authentication\n",
    "username = \"YOUR_SERVICE_PRINCIPAL_APPLICATION_ID\" # Optional for service principal authentication\n",
    "password = \"YOUR_SERVICE_PRINCIPAL_PASSWORD\" # Optional for service principal authentication\n",
    "storageConnString = \"YOUR_STORAGE_CONNECTION_STRING\""
   ]
  },
  {
   "cell_type": "markdown",
   "metadata": {},
   "source": [
    "Create and initialize a dotenv file for storing parameters used in multiple notebooks."
   ]
  },
  {
   "cell_type": "code",
   "execution_count": 12,
   "metadata": {},
   "outputs": [],
   "source": [
    "sql_datastore_name = \"ado_sql_datastore\" # Hard Code this for this example\n",
    "blob_datastore_name=\"ado_blob_datastore\""
   ]
  },
  {
   "cell_type": "markdown",
   "metadata": {},
   "source": [
    "#### Create the workspace\n",
    "This cell will create an AML workspace for you in a subscription, provided you have the correct permissions.\n",
    "\n",
    "This will fail when:\n",
    "1. You do not have permission to create a workspace in the resource group\n",
    "2. You do not have permission to create a resource group if it's non-existing.\n",
    "2. You are not a subscription owner or contributor and no Azure ML workspaces have ever been created in this subscription\n",
    "\n",
    "If workspace creation fails, please work with your IT admin to provide you with the appropriate permissions or to provision the required resources. If this cell succeeds, you're done configuring AML!  "
   ]
  },
  {
   "cell_type": "code",
   "execution_count": 9,
   "metadata": {},
   "outputs": [],
   "source": [
    "from azureml.core.authentication import AzureCliAuthentication\n",
    "\n",
    "cli_auth = AzureCliAuthentication()\n",
    "\n",
    "ws = Workspace(subscription_id = subscription_id, resource_group = resource_group, workspace_name = workspace_name, auth=cli_auth)"
   ]
  },
  {
   "cell_type": "code",
   "execution_count": 18,
   "metadata": {},
   "outputs": [
    {
     "ename": "TypeError",
     "evalue": "__init__() got an unexpected keyword argument 'username'",
     "output_type": "error",
     "traceback": [
      "\u001b[1;31m---------------------------------------------------------------------------\u001b[0m",
      "\u001b[1;31mTypeError\u001b[0m                                 Traceback (most recent call last)",
      "\u001b[1;32m<ipython-input-18-72c58f9e3111>\u001b[0m in \u001b[0;36m<module>\u001b[1;34m\u001b[0m\n\u001b[0;32m      5\u001b[0m     \u001b[0mlocation\u001b[0m\u001b[1;33m=\u001b[0m\u001b[0mworkspace_region\u001b[0m\u001b[1;33m,\u001b[0m\u001b[1;33m\u001b[0m\u001b[1;33m\u001b[0m\u001b[0m\n\u001b[0;32m      6\u001b[0m     \u001b[0mcreate_resource_group\u001b[0m\u001b[1;33m=\u001b[0m\u001b[1;32mTrue\u001b[0m\u001b[1;33m,\u001b[0m\u001b[1;33m\u001b[0m\u001b[1;33m\u001b[0m\u001b[0m\n\u001b[1;32m----> 7\u001b[1;33m     \u001b[0mauth\u001b[0m\u001b[1;33m=\u001b[0m\u001b[0mget_auth\u001b[0m\u001b[1;33m(\u001b[0m\u001b[0menv_path\u001b[0m\u001b[1;33m)\u001b[0m\u001b[1;33m,\u001b[0m\u001b[1;33m\u001b[0m\u001b[1;33m\u001b[0m\u001b[0m\n\u001b[0m\u001b[0;32m      8\u001b[0m     \u001b[0mexist_ok\u001b[0m\u001b[1;33m=\u001b[0m\u001b[1;32mTrue\u001b[0m\u001b[1;33m,\u001b[0m\u001b[1;33m\u001b[0m\u001b[1;33m\u001b[0m\u001b[0m\n\u001b[0;32m      9\u001b[0m )\n",
      "\u001b[1;32m~\\Anaconda3\\envs\\MLHyperparameterTuning\\lib\\site-packages\\AIHelpers\\utilities.py\u001b[0m in \u001b[0;36mget_auth\u001b[1;34m(env_path)\u001b[0m\n\u001b[0;32m    101\u001b[0m             \u001b[0mtenant_id\u001b[0m\u001b[1;33m=\u001b[0m\u001b[0maml_sp_tennant_id\u001b[0m\u001b[1;33m,\u001b[0m\u001b[1;33m\u001b[0m\u001b[1;33m\u001b[0m\u001b[0m\n\u001b[0;32m    102\u001b[0m             \u001b[0musername\u001b[0m\u001b[1;33m=\u001b[0m\u001b[0maml_sp_username\u001b[0m\u001b[1;33m,\u001b[0m\u001b[1;33m\u001b[0m\u001b[1;33m\u001b[0m\u001b[0m\n\u001b[1;32m--> 103\u001b[1;33m             \u001b[0mpassword\u001b[0m\u001b[1;33m=\u001b[0m\u001b[0maml_sp_password\u001b[0m\u001b[1;33m\u001b[0m\u001b[1;33m\u001b[0m\u001b[0m\n\u001b[0m\u001b[0;32m    104\u001b[0m         )\n\u001b[0;32m    105\u001b[0m     \u001b[1;32melse\u001b[0m\u001b[1;33m:\u001b[0m\u001b[1;33m\u001b[0m\u001b[1;33m\u001b[0m\u001b[0m\n",
      "\u001b[1;31mTypeError\u001b[0m: __init__() got an unexpected keyword argument 'username'"
     ]
    }
   ],
   "source": [
    "ws = Workspace.create(\n",
    "    name=workspace_name,\n",
    "    subscription_id=subscription_id,\n",
    "    resource_group=resource_group,\n",
    "    location=workspace_region,\n",
    "    create_resource_group=True,\n",
    "    auth=get_auth(env_path),\n",
    "    exist_ok=True,\n",
    ")"
   ]
  },
  {
   "cell_type": "markdown",
   "metadata": {},
   "source": [
    "Let's check the details of the workspace."
   ]
  },
  {
   "cell_type": "code",
   "execution_count": 10,
   "metadata": {},
   "outputs": [
    {
     "data": {
      "text/plain": [
       "{'id': '/subscriptions/0ca618d2-22a8-413a-96d0-0f1b531129c3/resourceGroups/dciborow-ado-test/providers/Microsoft.MachineLearningServices/workspaces/dciborowws',\n",
       " 'name': 'dciborowws',\n",
       " 'location': 'westus',\n",
       " 'type': 'Microsoft.MachineLearningServices/workspaces',\n",
       " 'sku': 'Enterprise',\n",
       " 'workspaceid': '3db1660f-e512-4152-a3ec-387abea8b04a',\n",
       " 'description': '',\n",
       " 'friendlyName': 'dciborowws',\n",
       " 'creationTime': '2019-12-18T01:26:53.6336661+00:00',\n",
       " 'keyVault': '/subscriptions/0ca618d2-22a8-413a-96d0-0f1b531129c3/resourcegroups/dciborow-ado-test/providers/microsoft.keyvault/vaults/dciborowkeyvaultb9b3508b',\n",
       " 'applicationInsights': '/subscriptions/0ca618d2-22a8-413a-96d0-0f1b531129c3/resourcegroups/dciborow-ado-test/providers/microsoft.insights/components/dciborowinsights3fa1a864',\n",
       " 'identityPrincipalId': 'ccc30575-90d5-4439-a8c0-59c168b285bc',\n",
       " 'identityTenantId': '72f988bf-86f1-41af-91ab-2d7cd011db47',\n",
       " 'identityType': 'SystemAssigned',\n",
       " 'storageAccount': '/subscriptions/0ca618d2-22a8-413a-96d0-0f1b531129c3/resourcegroups/dciborow-ado-test/providers/microsoft.storage/storageaccounts/dciborowstoraged8fc14234'}"
      ]
     },
     "execution_count": 10,
     "metadata": {},
     "output_type": "execute_result"
    }
   ],
   "source": [
    "ws.get_details()"
   ]
  },
  {
   "cell_type": "code",
   "execution_count": 13,
   "metadata": {
    "pycharm": {
     "name": "#%%\n"
    }
   },
   "outputs": [],
   "source": [
    "blob_datastore = Datastore.register_azure_blob_container(workspace=ws, \n",
    "                                                         datastore_name=blob_datastore_name, \n",
    "                                                         container_name=container_name, \n",
    "                                                         account_name=account_name,\n",
    "                                                         account_key=account_key,\n",
    "                                                         resource_group=datastore_rg)"
   ]
  },
  {
   "cell_type": "code",
   "execution_count": 19,
   "metadata": {},
   "outputs": [
    {
     "data": {
      "text/plain": [
       "{\n",
       "  \"source\": [\n",
       "    \"('ado_blob_datastore', 'ai_impact_scores.csv')\"\n",
       "  ],\n",
       "  \"definition\": [\n",
       "    \"GetDatastoreFiles\",\n",
       "    \"ParseDelimited\",\n",
       "    \"DropColumns\",\n",
       "    \"SetColumnTypes\"\n",
       "  ],\n",
       "  \"registration\": {\n",
       "    \"id\": \"cfbfaa8a-e68b-438a-9a23-be134b15c3da\",\n",
       "    \"name\": \"ai_impact_scores\",\n",
       "    \"version\": 1,\n",
       "    \"description\": \"ai subset of feedback items\",\n",
       "    \"workspace\": \"Workspace.create(name='dciborowws', subscription_id='0ca618d2-22a8-413a-96d0-0f1b531129c3', resource_group='dciborow-ado-test')\"\n",
       "  }\n",
       "}"
      ]
     },
     "execution_count": 19,
     "metadata": {},
     "output_type": "execute_result"
    }
   ],
   "source": [
    "from azureml.core.dataset import Dataset\n",
    "datastore_paths = [(blob_datastore, 'ai_impact_scores.csv')]\n",
    "\n",
    "ai_impact_scores = Dataset.Tabular.from_delimited_files(path=datastore_paths)\n",
    "\n",
    "ai_impact_scores.register(workspace=ws,\n",
    "                          name=\"ai_impact_scores\",\n",
    "                          description = \"ai subset of feedback items\")"
   ]
  },
  {
   "cell_type": "code",
   "execution_count": 17,
   "metadata": {},
   "outputs": [
    {
     "name": "stderr",
     "output_type": "stream",
     "text": [
      "C:\\Users\\dcibo\\Anaconda3\\envs\\MLHyperparameterTuning\\lib\\site-packages\\azureml\\dataprep\\api\\dataflow.py:689: UserWarning: Please install pyarrow>=0.11.0 for improved performance of to_pandas_dataframe. You can ensure the correct version is installed by running: pip install azureml-dataprep[pandas].\n",
      "  warnings.warn('Please install pyarrow>=0.11.0 for improved performance of to_pandas_dataframe. '\n"
     ]
    },
    {
     "data": {
      "text/html": [
       "<div>\n",
       "<style scoped>\n",
       "    .dataframe tbody tr th:only-of-type {\n",
       "        vertical-align: middle;\n",
       "    }\n",
       "\n",
       "    .dataframe tbody tr th {\n",
       "        vertical-align: top;\n",
       "    }\n",
       "\n",
       "    .dataframe thead th {\n",
       "        text-align: right;\n",
       "    }\n",
       "</style>\n",
       "<table border=\"1\" class=\"dataframe\">\n",
       "  <thead>\n",
       "    <tr style=\"text-align: right;\">\n",
       "      <th></th>\n",
       "      <th>Title</th>\n",
       "      <th>Priority</th>\n",
       "      <th>Mitigation Score String</th>\n",
       "      <th>IsBlocker</th>\n",
       "      <th>Count</th>\n",
       "      <th>Pri</th>\n",
       "      <th>Blocker</th>\n",
       "      <th>Mitigation</th>\n",
       "      <th>Score</th>\n",
       "      <th>LogScore</th>\n",
       "      <th>DCReview</th>\n",
       "    </tr>\n",
       "  </thead>\n",
       "  <tbody>\n",
       "    <tr>\n",
       "      <th>0</th>\n",
       "      <td>Need support for deep learning in R programmin...</td>\n",
       "      <td>1</td>\n",
       "      <td>4</td>\n",
       "      <td>True</td>\n",
       "      <td>1</td>\n",
       "      <td>1</td>\n",
       "      <td>1</td>\n",
       "      <td>4</td>\n",
       "      <td>66.673125</td>\n",
       "      <td>1.823951</td>\n",
       "      <td></td>\n",
       "    </tr>\n",
       "    <tr>\n",
       "      <th>1</th>\n",
       "      <td>Computer Vision API v2.0 Recognize Text (aka O...</td>\n",
       "      <td>2</td>\n",
       "      <td>5</td>\n",
       "      <td>True</td>\n",
       "      <td>3</td>\n",
       "      <td>0</td>\n",
       "      <td>1</td>\n",
       "      <td>5</td>\n",
       "      <td>50.004844</td>\n",
       "      <td>1.699012</td>\n",
       "      <td>-</td>\n",
       "    </tr>\n",
       "    <tr>\n",
       "      <th>2</th>\n",
       "      <td>Feature Gap: Need a service for Headline Detec...</td>\n",
       "      <td>2</td>\n",
       "      <td>5</td>\n",
       "      <td>True</td>\n",
       "      <td>3</td>\n",
       "      <td>0</td>\n",
       "      <td>1</td>\n",
       "      <td>5</td>\n",
       "      <td>50.004844</td>\n",
       "      <td>1.699012</td>\n",
       "      <td></td>\n",
       "    </tr>\n",
       "  </tbody>\n",
       "</table>\n",
       "</div>"
      ],
      "text/plain": [
       "                                               Title  Priority  \\\n",
       "0  Need support for deep learning in R programmin...         1   \n",
       "1  Computer Vision API v2.0 Recognize Text (aka O...         2   \n",
       "2  Feature Gap: Need a service for Headline Detec...         2   \n",
       "\n",
       "   Mitigation Score String  IsBlocker  Count  Pri  Blocker  Mitigation  \\\n",
       "0                        4       True      1    1        1           4   \n",
       "1                        5       True      3    0        1           5   \n",
       "2                        5       True      3    0        1           5   \n",
       "\n",
       "       Score  LogScore DCReview  \n",
       "0  66.673125  1.823951           \n",
       "1  50.004844  1.699012        -  \n",
       "2  50.004844  1.699012           "
      ]
     },
     "execution_count": 17,
     "metadata": {},
     "output_type": "execute_result"
    }
   ],
   "source": [
    "ai_impact_scores.take(3).to_pandas_dataframe()"
   ]
  },
  {
   "cell_type": "code",
   "execution_count": null,
   "metadata": {
    "pycharm": {
     "name": "#%%\n"
    }
   },
   "outputs": [],
   "source": [
    "# sql_datastore = Datastore.register_azure_sql_database(workspace=ws,\n",
    "#                                                       datastore_name=sql_datastore_name,\n",
    "#                                                       server_name=sql_server_name,\n",
    "#                                                       database_name=sql_database_name,\n",
    "#                                                       username=sql_username,\n",
    "#                                                       password=sql_password)"
   ]
  },
  {
   "cell_type": "markdown",
   "metadata": {},
   "source": [
    "Let's write the workspace configuration for the rest of the notebooks to connect to the workspace."
   ]
  },
  {
   "cell_type": "code",
   "execution_count": null,
   "metadata": {},
   "outputs": [],
   "source": [
    "ws.write_config()"
   ]
  },
  {
   "cell_type": "markdown",
   "metadata": {},
   "source": [
    "You are now ready to move on to the [data preperation](01_DataPrep.ipynb) notebook."
   ]
  }
 ],
 "metadata": {
  "celltoolbar": "Tags",
  "kernelspec": {
   "display_name": "Python 3",
   "language": "python",
   "name": "python3"
  },
  "language_info": {
   "codemirror_mode": {
    "name": "ipython",
    "version": 3
   },
   "file_extension": ".py",
   "mimetype": "text/x-python",
   "name": "python",
   "nbconvert_exporter": "python",
   "pygments_lexer": "ipython3",
   "version": "3.6.7"
  },
  "pycharm": {
   "stem_cell": {
    "cell_type": "raw",
    "metadata": {
     "collapsed": false
    },
    "source": []
   }
  }
 },
 "nbformat": 4,
 "nbformat_minor": 2
}
