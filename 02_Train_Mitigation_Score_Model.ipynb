{
 "cells": [
  {
   "cell_type": "code",
   "execution_count": 1,
   "metadata": {
    "pycharm": {
     "is_executing": false
    }
   },
   "outputs": [
    {
     "name": "stdout",
     "text": [
      "1.1.33\n",
      "1.0.79\n"
     ],
     "output_type": "stream"
    }
   ],
   "source": [
    "import azureml.core\n",
    "import azureml.dataprep\n",
    "from azureml.automl.core.constants import FeaturizationConfigMode\n",
    "print(azureml.dataprep.__version__)\n",
    "import azureml.core\n",
    "print(azureml.core.VERSION)\n"
   ]
  },
  {
   "cell_type": "code",
   "execution_count": 2,
   "metadata": {
    "pycharm": {
     "is_executing": false
    }
   },
   "outputs": [
    {
     "name": "stderr",
     "text": [
      "WARNING - Warning: Falling back to use azure cli login credentials.\n",
      "If you run your code in unattended mode, i.e., where you can't give a user input, then we recommend to use ServicePrincipalAuthentication or MsiAuthentication.\n",
      "Please refer to aka.ms/aml-notebook-auth for different authentication mechanisms in azureml-sdk.\n"
     ],
     "output_type": "stream"
    }
   ],
   "source": [
    "from azureml.core import Workspace\n",
    "\n",
    "ws = Workspace.from_config()"
   ]
  },
  {
   "cell_type": "code",
   "execution_count": 3,
   "metadata": {
    "pycharm": {
     "is_executing": false
    }
   },
   "outputs": [],
   "source": [
    "from azureml.core import Datastore\n",
    "\n",
    "sql_datastore = Datastore.get(workspace=ws, datastore_name=\"ado_sql_datastore\")\n"
   ]
  },
  {
   "cell_type": "code",
   "execution_count": 7,
   "metadata": {
    "pycharm": {
     "is_executing": false
    }
   },
   "outputs": [
    {
     "name": "stderr",
     "text": [
      "2020-01-13 08:13:30.709665 | ActivityCompleted: Activity=from_sql_query, HowEnded=Failure, Duration=636.93 [ms], Info = {'activity_id': 'c6e2619a-9af3-4181-a854-f5b79fb4b58a', 'activity_name': 'from_sql_query', 'activity_type': 'PublicApi', 'app_name': 'TabularDataset', 'source': 'azureml.dataset', 'version': '1.0.79'}, Exception=DatasetValidationError; Cannot load any data from the datastore using the SQL query \"{}\". Please make sure the datastore and query is correct.\n"
     ],
     "output_type": "stream"
    },
    {
     "traceback": [
      "\u001b[1;31m---------------------------------------------------------------------------\u001b[0m",
      "\u001b[1;31mExecutionError\u001b[0m                            Traceback (most recent call last)",
      "\u001b[1;32m~\\Anaconda3\\envs\\MLHyperparameterTuning\\lib\\site-packages\\azureml\\data\\dataset_error_handling.py\u001b[0m in \u001b[0;36m_validate_has_data\u001b[1;34m(dataflow, error_message)\u001b[0m\n\u001b[0;32m     44\u001b[0m     \u001b[1;32mtry\u001b[0m\u001b[1;33m:\u001b[0m\u001b[1;33m\u001b[0m\u001b[1;33m\u001b[0m\u001b[0m\n\u001b[1;32m---> 45\u001b[1;33m         \u001b[0mdataflow\u001b[0m\u001b[1;33m.\u001b[0m\u001b[0mverify_has_data\u001b[0m\u001b[1;33m(\u001b[0m\u001b[1;33m)\u001b[0m\u001b[1;33m\u001b[0m\u001b[1;33m\u001b[0m\u001b[0m\n\u001b[0m\u001b[0;32m     46\u001b[0m     except (dataprep().api.dataflow.DataflowValidationError,\n",
      "\u001b[1;32m~\\Anaconda3\\envs\\MLHyperparameterTuning\\lib\\site-packages\\azureml\\dataprep\\api\\_loggerfactory.py\u001b[0m in \u001b[0;36mwrapper\u001b[1;34m(*args, **kwargs)\u001b[0m\n\u001b[0;32m    143\u001b[0m                 \u001b[1;32mtry\u001b[0m\u001b[1;33m:\u001b[0m\u001b[1;33m\u001b[0m\u001b[1;33m\u001b[0m\u001b[0m\n\u001b[1;32m--> 144\u001b[1;33m                     \u001b[1;32mreturn\u001b[0m \u001b[0mfunc\u001b[0m\u001b[1;33m(\u001b[0m\u001b[1;33m*\u001b[0m\u001b[0margs\u001b[0m\u001b[1;33m,\u001b[0m \u001b[1;33m**\u001b[0m\u001b[0mkwargs\u001b[0m\u001b[1;33m)\u001b[0m\u001b[1;33m\u001b[0m\u001b[1;33m\u001b[0m\u001b[0m\n\u001b[0m\u001b[0;32m    145\u001b[0m                 \u001b[1;32mexcept\u001b[0m \u001b[0mException\u001b[0m \u001b[1;32mas\u001b[0m \u001b[0me\u001b[0m\u001b[1;33m:\u001b[0m\u001b[1;33m\u001b[0m\u001b[1;33m\u001b[0m\u001b[0m\n",
      "\u001b[1;32m~\\Anaconda3\\envs\\MLHyperparameterTuning\\lib\\site-packages\\azureml\\dataprep\\api\\dataflow.py\u001b[0m in \u001b[0;36mverify_has_data\u001b[1;34m(self)\u001b[0m\n\u001b[0;32m    777\u001b[0m \u001b[1;33m\u001b[0m\u001b[0m\n\u001b[1;32m--> 778\u001b[1;33m         \u001b[0mprofile\u001b[0m \u001b[1;33m=\u001b[0m \u001b[0mself\u001b[0m\u001b[1;33m.\u001b[0m\u001b[0mtake\u001b[0m\u001b[1;33m(\u001b[0m\u001b[1;36m1\u001b[0m\u001b[1;33m)\u001b[0m\u001b[1;33m.\u001b[0m\u001b[0m_get_profile\u001b[0m\u001b[1;33m(\u001b[0m\u001b[1;33m)\u001b[0m\u001b[1;33m\u001b[0m\u001b[1;33m\u001b[0m\u001b[0m\n\u001b[0m\u001b[0;32m    779\u001b[0m         \u001b[1;32mif\u001b[0m \u001b[0mprofile\u001b[0m\u001b[1;33m.\u001b[0m\u001b[0mrow_count\u001b[0m \u001b[1;33m==\u001b[0m \u001b[1;36m0\u001b[0m \u001b[1;32mor\u001b[0m \u001b[0mprofile\u001b[0m\u001b[1;33m.\u001b[0m\u001b[0mrow_count\u001b[0m \u001b[1;32mis\u001b[0m \u001b[1;32mNone\u001b[0m\u001b[1;33m:\u001b[0m\u001b[1;33m\u001b[0m\u001b[1;33m\u001b[0m\u001b[0m\n",
      "\u001b[1;32m~\\Anaconda3\\envs\\MLHyperparameterTuning\\lib\\site-packages\\azureml\\dataprep\\api\\dataflow.py\u001b[0m in \u001b[0;36m_get_profile\u001b[1;34m(self, include_stype_counts, number_of_histogram_bins, include_average_spaces_count, include_string_lengths)\u001b[0m\n\u001b[0;32m    545\u001b[0m                                            \u001b[0minclude_average_spaces_count\u001b[0m\u001b[1;33m,\u001b[0m\u001b[1;33m\u001b[0m\u001b[1;33m\u001b[0m\u001b[0m\n\u001b[1;32m--> 546\u001b[1;33m                                            include_string_lengths)\n\u001b[0m\u001b[0;32m    547\u001b[0m \u001b[1;33m\u001b[0m\u001b[0m\n",
      "\u001b[1;32m~\\Anaconda3\\envs\\MLHyperparameterTuning\\lib\\site-packages\\azureml\\dataprep\\api\\dataprofile.py\u001b[0m in \u001b[0;36m_from_execution\u001b[1;34m(cls, engine_api, context, include_stype_counts, number_of_histogram_bins, include_average_spaces_count, include_string_lengths)\u001b[0m\n\u001b[0;32m     52\u001b[0m \u001b[1;33m\u001b[0m\u001b[0m\n\u001b[1;32m---> 53\u001b[1;33m         \u001b[0minspector_response\u001b[0m \u001b[1;33m=\u001b[0m \u001b[0m_Inspector\u001b[0m\u001b[1;33m.\u001b[0m\u001b[0m_from_execution\u001b[0m\u001b[1;33m(\u001b[0m\u001b[0mengine_api\u001b[0m\u001b[1;33m,\u001b[0m \u001b[0mcontext\u001b[0m\u001b[1;33m,\u001b[0m \u001b[0mtable_inspector\u001b[0m\u001b[1;33m)\u001b[0m\u001b[1;33m\u001b[0m\u001b[1;33m\u001b[0m\u001b[0m\n\u001b[0m\u001b[0;32m     54\u001b[0m \u001b[1;33m\u001b[0m\u001b[0m\n",
      "\u001b[1;32m~\\Anaconda3\\envs\\MLHyperparameterTuning\\lib\\site-packages\\azureml\\dataprep\\api\\inspector.py\u001b[0m in \u001b[0;36m_from_execution\u001b[1;34m(cls, engine_api, context, inspector)\u001b[0m\n\u001b[0;32m    189\u001b[0m             \u001b[0moffset\u001b[0m \u001b[1;33m=\u001b[0m \u001b[1;36m0\u001b[0m\u001b[1;33m,\u001b[0m\u001b[1;33m\u001b[0m\u001b[1;33m\u001b[0m\u001b[0m\n\u001b[1;32m--> 190\u001b[1;33m             row_count = _MAX_ROW_COUNT))\n\u001b[0m\u001b[0;32m    191\u001b[0m \u001b[1;33m\u001b[0m\u001b[0m\n",
      "\u001b[1;32m~\\Anaconda3\\envs\\MLHyperparameterTuning\\lib\\site-packages\\azureml\\dataprep\\api\\_aml_helper.py\u001b[0m in \u001b[0;36mwrapper\u001b[1;34m(op_code, message, cancellation_token)\u001b[0m\n\u001b[0;32m     37\u001b[0m                 \u001b[0mengine_api_func\u001b[0m\u001b[1;33m(\u001b[0m\u001b[1;33m)\u001b[0m\u001b[1;33m.\u001b[0m\u001b[0mupdate_environment_variable\u001b[0m\u001b[1;33m(\u001b[0m\u001b[0mchanged\u001b[0m\u001b[1;33m)\u001b[0m\u001b[1;33m\u001b[0m\u001b[1;33m\u001b[0m\u001b[0m\n\u001b[1;32m---> 38\u001b[1;33m             \u001b[1;32mreturn\u001b[0m \u001b[0msend_message_func\u001b[0m\u001b[1;33m(\u001b[0m\u001b[0mop_code\u001b[0m\u001b[1;33m,\u001b[0m \u001b[0mmessage\u001b[0m\u001b[1;33m,\u001b[0m \u001b[0mcancellation_token\u001b[0m\u001b[1;33m)\u001b[0m\u001b[1;33m\u001b[0m\u001b[1;33m\u001b[0m\u001b[0m\n\u001b[0m\u001b[0;32m     39\u001b[0m \u001b[1;33m\u001b[0m\u001b[0m\n",
      "\u001b[1;32m~\\Anaconda3\\envs\\MLHyperparameterTuning\\lib\\site-packages\\azureml\\dataprep\\api\\engineapi\\api.py\u001b[0m in \u001b[0;36mexecute_inspector\u001b[1;34m(self, message_args, cancellation_token)\u001b[0m\n\u001b[0;32m    103\u001b[0m     \u001b[1;32mdef\u001b[0m \u001b[0mexecute_inspector\u001b[0m\u001b[1;33m(\u001b[0m\u001b[0mself\u001b[0m\u001b[1;33m,\u001b[0m \u001b[0mmessage_args\u001b[0m\u001b[1;33m:\u001b[0m \u001b[0mtypedefinitions\u001b[0m\u001b[1;33m.\u001b[0m\u001b[0mExecuteInspectorCommonArguments\u001b[0m\u001b[1;33m,\u001b[0m \u001b[0mcancellation_token\u001b[0m\u001b[1;33m:\u001b[0m \u001b[0mCancellationToken\u001b[0m \u001b[1;33m=\u001b[0m \u001b[1;32mNone\u001b[0m\u001b[1;33m)\u001b[0m \u001b[1;33m->\u001b[0m \u001b[0mtypedefinitions\u001b[0m\u001b[1;33m.\u001b[0m\u001b[0mExecuteInspectorCommonResponse\u001b[0m\u001b[1;33m:\u001b[0m\u001b[1;33m\u001b[0m\u001b[1;33m\u001b[0m\u001b[0m\n\u001b[1;32m--> 104\u001b[1;33m         \u001b[0mresponse\u001b[0m \u001b[1;33m=\u001b[0m \u001b[0mself\u001b[0m\u001b[1;33m.\u001b[0m\u001b[0m_message_channel\u001b[0m\u001b[1;33m.\u001b[0m\u001b[0msend_message\u001b[0m\u001b[1;33m(\u001b[0m\u001b[1;34m'Engine.ExecuteInspector'\u001b[0m\u001b[1;33m,\u001b[0m \u001b[0mmessage_args\u001b[0m\u001b[1;33m,\u001b[0m \u001b[0mcancellation_token\u001b[0m\u001b[1;33m)\u001b[0m\u001b[1;33m\u001b[0m\u001b[1;33m\u001b[0m\u001b[0m\n\u001b[0m\u001b[0;32m    105\u001b[0m         \u001b[1;32mreturn\u001b[0m \u001b[0mtypedefinitions\u001b[0m\u001b[1;33m.\u001b[0m\u001b[0mExecuteInspectorCommonResponse\u001b[0m\u001b[1;33m.\u001b[0m\u001b[0mfrom_pod\u001b[0m\u001b[1;33m(\u001b[0m\u001b[0mresponse\u001b[0m\u001b[1;33m)\u001b[0m \u001b[1;32mif\u001b[0m \u001b[0mresponse\u001b[0m \u001b[1;32mis\u001b[0m \u001b[1;32mnot\u001b[0m \u001b[1;32mNone\u001b[0m \u001b[1;32melse\u001b[0m \u001b[1;32mNone\u001b[0m\u001b[1;33m\u001b[0m\u001b[1;33m\u001b[0m\u001b[0m\n",
      "\u001b[1;32m~\\Anaconda3\\envs\\MLHyperparameterTuning\\lib\\site-packages\\azureml\\dataprep\\api\\engineapi\\engine.py\u001b[0m in \u001b[0;36msend_message\u001b[1;34m(self, op_code, message, cancellation_token)\u001b[0m\n\u001b[0;32m    119\u001b[0m                 \u001b[1;32mif\u001b[0m \u001b[1;34m'error'\u001b[0m \u001b[1;32min\u001b[0m \u001b[0mresponse\u001b[0m\u001b[1;33m:\u001b[0m\u001b[1;33m\u001b[0m\u001b[1;33m\u001b[0m\u001b[0m\n\u001b[1;32m--> 120\u001b[1;33m                     \u001b[0mraise_engine_error\u001b[0m\u001b[1;33m(\u001b[0m\u001b[0mresponse\u001b[0m\u001b[1;33m[\u001b[0m\u001b[1;34m'error'\u001b[0m\u001b[1;33m]\u001b[0m\u001b[1;33m)\u001b[0m\u001b[1;33m\u001b[0m\u001b[1;33m\u001b[0m\u001b[0m\n\u001b[0m\u001b[0;32m    121\u001b[0m                 \u001b[1;32melif\u001b[0m \u001b[0mresponse\u001b[0m\u001b[1;33m.\u001b[0m\u001b[0mget\u001b[0m\u001b[1;33m(\u001b[0m\u001b[1;34m'id'\u001b[0m\u001b[1;33m)\u001b[0m \u001b[1;33m==\u001b[0m \u001b[0mmessage_id\u001b[0m\u001b[1;33m:\u001b[0m\u001b[1;33m\u001b[0m\u001b[1;33m\u001b[0m\u001b[0m\n",
      "\u001b[1;32m~\\Anaconda3\\envs\\MLHyperparameterTuning\\lib\\site-packages\\azureml\\dataprep\\api\\errorhandlers.py\u001b[0m in \u001b[0;36mraise_engine_error\u001b[1;34m(error_response)\u001b[0m\n\u001b[0;32m     21\u001b[0m     \u001b[1;32mif\u001b[0m \u001b[1;34m'ActivityExecutionFailed'\u001b[0m \u001b[1;32min\u001b[0m \u001b[0merror_code\u001b[0m\u001b[1;33m:\u001b[0m\u001b[1;33m\u001b[0m\u001b[1;33m\u001b[0m\u001b[0m\n\u001b[1;32m---> 22\u001b[1;33m         \u001b[1;32mraise\u001b[0m \u001b[0mExecutionError\u001b[0m\u001b[1;33m(\u001b[0m\u001b[0merror_response\u001b[0m\u001b[1;33m)\u001b[0m\u001b[1;33m\u001b[0m\u001b[1;33m\u001b[0m\u001b[0m\n\u001b[0m\u001b[0;32m     23\u001b[0m     \u001b[1;32melif\u001b[0m \u001b[1;34m'UnableToPreviewDataSource'\u001b[0m \u001b[1;32min\u001b[0m \u001b[0merror_code\u001b[0m\u001b[1;33m:\u001b[0m\u001b[1;33m\u001b[0m\u001b[1;33m\u001b[0m\u001b[0m\n",
      "\u001b[1;31mExecutionError\u001b[0m: (Format of the initialization string does not conform to specification starting at index 137.)|session_id=b1fa271d-7b24-4366-a362-4c6795db2996",
      "\nDuring handling of the above exception, another exception occurred:\n",
      "\u001b[1;31mDatasetValidationError\u001b[0m                    Traceback (most recent call last)",
      "\u001b[1;32m<ipython-input-7-b1b2f8864d9d>\u001b[0m in \u001b[0;36m<module>\u001b[1;34m\u001b[0m\n\u001b[0;32m      7\u001b[0m \u001b[1;33m\u001b[0m\u001b[0m\n\u001b[0;32m      8\u001b[0m \u001b[0mquery\u001b[0m \u001b[1;33m=\u001b[0m \u001b[0mDataPath\u001b[0m\u001b[1;33m(\u001b[0m\u001b[0msql_datastore\u001b[0m\u001b[1;33m,\u001b[0m \u001b[0mquery_string\u001b[0m\u001b[1;33m)\u001b[0m\u001b[1;33m\u001b[0m\u001b[1;33m\u001b[0m\u001b[0m\n\u001b[1;32m----> 9\u001b[1;33m \u001b[0mfeedback_sql_ds\u001b[0m \u001b[1;33m=\u001b[0m \u001b[0mDataset\u001b[0m\u001b[1;33m.\u001b[0m\u001b[0mTabular\u001b[0m\u001b[1;33m.\u001b[0m\u001b[0mfrom_sql_query\u001b[0m\u001b[1;33m(\u001b[0m\u001b[0mquery\u001b[0m\u001b[1;33m)\u001b[0m\u001b[1;33m\u001b[0m\u001b[1;33m\u001b[0m\u001b[0m\n\u001b[0m\u001b[0;32m     10\u001b[0m \u001b[1;33m\u001b[0m\u001b[0m\n\u001b[0;32m     11\u001b[0m feedback_sql_ds.register(workspace=ws,\n",
      "\u001b[1;32m~\\Anaconda3\\envs\\MLHyperparameterTuning\\lib\\site-packages\\azureml\\data\\_loggerfactory.py\u001b[0m in \u001b[0;36mwrapper\u001b[1;34m(*args, **kwargs)\u001b[0m\n\u001b[0;32m     76\u001b[0m             \u001b[1;32mwith\u001b[0m \u001b[0m_LoggerFactory\u001b[0m\u001b[1;33m.\u001b[0m\u001b[0mtrack_activity\u001b[0m\u001b[1;33m(\u001b[0m\u001b[0mlogger\u001b[0m\u001b[1;33m,\u001b[0m \u001b[0mfunc\u001b[0m\u001b[1;33m.\u001b[0m\u001b[0m__name__\u001b[0m\u001b[1;33m,\u001b[0m \u001b[0mactivity_type\u001b[0m\u001b[1;33m,\u001b[0m \u001b[0mcustom_dimensions\u001b[0m\u001b[1;33m)\u001b[0m \u001b[1;32mas\u001b[0m \u001b[0mal\u001b[0m\u001b[1;33m:\u001b[0m\u001b[1;33m\u001b[0m\u001b[1;33m\u001b[0m\u001b[0m\n\u001b[0;32m     77\u001b[0m                 \u001b[1;32mtry\u001b[0m\u001b[1;33m:\u001b[0m\u001b[1;33m\u001b[0m\u001b[1;33m\u001b[0m\u001b[0m\n\u001b[1;32m---> 78\u001b[1;33m                     \u001b[1;32mreturn\u001b[0m \u001b[0mfunc\u001b[0m\u001b[1;33m(\u001b[0m\u001b[1;33m*\u001b[0m\u001b[0margs\u001b[0m\u001b[1;33m,\u001b[0m \u001b[1;33m**\u001b[0m\u001b[0mkwargs\u001b[0m\u001b[1;33m)\u001b[0m\u001b[1;33m\u001b[0m\u001b[1;33m\u001b[0m\u001b[0m\n\u001b[0m\u001b[0;32m     79\u001b[0m                 \u001b[1;32mexcept\u001b[0m \u001b[0mException\u001b[0m \u001b[1;32mas\u001b[0m \u001b[0me\u001b[0m\u001b[1;33m:\u001b[0m\u001b[1;33m\u001b[0m\u001b[1;33m\u001b[0m\u001b[0m\n\u001b[0;32m     80\u001b[0m                     \u001b[1;32mif\u001b[0m \u001b[0mhasattr\u001b[0m\u001b[1;33m(\u001b[0m\u001b[0mal\u001b[0m\u001b[1;33m,\u001b[0m \u001b[1;34m'activity_info'\u001b[0m\u001b[1;33m)\u001b[0m \u001b[1;32mand\u001b[0m \u001b[0mhasattr\u001b[0m\u001b[1;33m(\u001b[0m\u001b[0me\u001b[0m\u001b[1;33m,\u001b[0m \u001b[1;34m'error_code'\u001b[0m\u001b[1;33m)\u001b[0m\u001b[1;33m:\u001b[0m\u001b[1;33m\u001b[0m\u001b[1;33m\u001b[0m\u001b[0m\n",
      "\u001b[1;32m~\\Anaconda3\\envs\\MLHyperparameterTuning\\lib\\site-packages\\azureml\\data\\dataset_factory.py\u001b[0m in \u001b[0;36mfrom_sql_query\u001b[1;34m(query, validate, set_column_types)\u001b[0m\n\u001b[0;32m    379\u001b[0m \u001b[1;33m\u001b[0m\u001b[0m\n\u001b[0;32m    380\u001b[0m         \u001b[1;32mif\u001b[0m \u001b[0mvalidate\u001b[0m \u001b[1;32mor\u001b[0m \u001b[0m_is_inference_required\u001b[0m\u001b[1;33m(\u001b[0m\u001b[0mset_column_types\u001b[0m\u001b[1;33m)\u001b[0m\u001b[1;33m:\u001b[0m\u001b[1;33m\u001b[0m\u001b[1;33m\u001b[0m\u001b[0m\n\u001b[1;32m--> 381\u001b[1;33m             _validate_has_data(dataflow, 'Cannot load any data from the datastore using the SQL query \"{}\". '\n\u001b[0m\u001b[0;32m    382\u001b[0m                                          'Please make sure the datastore and query is correct.')\n\u001b[0;32m    383\u001b[0m         \u001b[0mdataflow\u001b[0m \u001b[1;33m=\u001b[0m \u001b[0m_set_column_types\u001b[0m\u001b[1;33m(\u001b[0m\u001b[0mdataflow\u001b[0m\u001b[1;33m,\u001b[0m \u001b[0mset_column_types\u001b[0m\u001b[1;33m)\u001b[0m\u001b[1;33m\u001b[0m\u001b[1;33m\u001b[0m\u001b[0m\n",
      "\u001b[1;32m~\\Anaconda3\\envs\\MLHyperparameterTuning\\lib\\site-packages\\azureml\\data\\dataset_error_handling.py\u001b[0m in \u001b[0;36m_validate_has_data\u001b[1;34m(dataflow, error_message)\u001b[0m\n\u001b[0;32m     46\u001b[0m     except (dataprep().api.dataflow.DataflowValidationError,\n\u001b[0;32m     47\u001b[0m             dataprep().api.errorhandlers.ExecutionError):\n\u001b[1;32m---> 48\u001b[1;33m         \u001b[1;32mraise\u001b[0m \u001b[0mDatasetValidationError\u001b[0m\u001b[1;33m(\u001b[0m\u001b[0merror_message\u001b[0m\u001b[1;33m)\u001b[0m\u001b[1;33m\u001b[0m\u001b[1;33m\u001b[0m\u001b[0m\n\u001b[0m\u001b[0;32m     49\u001b[0m     \u001b[1;32mexcept\u001b[0m \u001b[0mException\u001b[0m \u001b[1;32mas\u001b[0m \u001b[0me\u001b[0m\u001b[1;33m:\u001b[0m\u001b[1;33m\u001b[0m\u001b[1;33m\u001b[0m\u001b[0m\n\u001b[0;32m     50\u001b[0m         \u001b[1;32mraise\u001b[0m \u001b[0me\u001b[0m\u001b[1;33m\u001b[0m\u001b[1;33m\u001b[0m\u001b[0m\n",
      "\u001b[1;31mDatasetValidationError\u001b[0m: Cannot load any data from the datastore using the SQL query \"{}\". Please make sure the datastore and query is correct."
     ],
     "ename": "DatasetValidationError",
     "evalue": "Cannot load any data from the datastore using the SQL query \"{}\". Please make sure the datastore and query is correct.",
     "output_type": "error"
    }
   ],
   "source": [
    "from azureml.core import Dataset\n",
    "from azureml.data.datapath import DataPath\n",
    "\n",
    "label =\"MitigationScore\"\n",
    "query_string = 'SELECT MitigationDescription, MitigationScore FROM FeedbackItems'\n",
    "\n",
    "query = DataPath(sql_datastore, query_string)\n",
    "feedback_sql_ds = Dataset.Tabular.from_sql_query(query)\n",
    "\n",
    "feedback_sql_ds.register(workspace=ws,\n",
    "                         name=\"feedback_mitigation_score\",\n",
    "                         description = \"Feedback from Azure DevOps\",\n",
    "                         create_new_version=True)"
   ]
  },
  {
   "cell_type": "code",
   "execution_count": null,
   "metadata": {},
   "outputs": [],
   "source": [
    "def split_dataset(dataset):\n",
    "    # Split the dataset into train and test datasets\n",
    "    train_data, test_data = dataset.random_split(percentage=0.8, seed=223)\n",
    "\n",
    "    # Register the train dataset with your workspace\n",
    "    train_data.register(workspace = ws, \n",
    "                        name = 'mitigation_score_train_dataset',\n",
    "                        description = 'Feedback from Azure DevOps training data',\n",
    "                        create_new_version=True)\n",
    "\n",
    "    # Register the test dataset with your workspace\n",
    "    test_data.register(workspace = ws, \n",
    "                       name = 'mitigation_score_test_dataset', \n",
    "                       description = 'Feedback from Azure DevOps test data',\n",
    "                       create_new_version=True)\n",
    "    return train_data, test_data\n",
    "    \n",
    "train_data, test_data = split_dataset(feedback_sql_ds)    "
   ]
  },
  {
   "cell_type": "code",
   "execution_count": null,
   "metadata": {},
   "outputs": [],
   "source": [
    "import logging\n",
    "from azureml.train.automl import AutoMLConfig\n",
    "\n",
    "automl_config = AutoMLConfig(task = 'regression',\n",
    "                             debug_log = 'automl_errors.log',\n",
    "                             training_data = train_data,\n",
    "                             label_column_name = label,\n",
    "                             verbosity = logging.INFO,\n",
    "                             enable_early_stopping = True,\n",
    "                             max_concurrent_iterations = 4,\n",
    "                             max_cores_per_iteration = -1,\n",
    "                             n_cross_validations = 5,\n",
    "                             primary_metric ='r2_score',\n",
    "                             preprocess=True,\n",
    "                             featurization = FeaturizationConfigMode.Auto,\n",
    "                             enable_tf = True\n",
    "                            )"
   ]
  },
  {
   "cell_type": "code",
   "execution_count": null,
   "metadata": {},
   "outputs": [],
   "source": [
    "from azureml.core.experiment import Experiment\n",
    "experiment = Experiment(ws, \"ai-mitigation-score-experiment-dc-sql\")\n",
    "\n",
    "local_run = experiment.submit(automl_config, show_output=True)"
   ]
  },
  {
   "cell_type": "code",
   "execution_count": null,
   "metadata": {},
   "outputs": [],
   "source": [
    "best_run, fitted_model = local_run.get_output()\n",
    "\n",
    "model = best_run.register_model(model_name='best_sql_dc_mitigation_score_model', model_path='./outputs/model.pkl')"
   ]
  },
  {
   "cell_type": "code",
   "execution_count": null,
   "metadata": {},
   "outputs": [],
   "source": [
    "print(\"Registered model:\\n --> Name: {}\\n --> Version: {}\\n --> URL: {}\".format(model.name, model.version, model.url))"
   ]
  }
 ],
 "metadata": {
  "kernelspec": {
   "display_name": "Python [conda env:MLHyperparameterTuning] *",
   "language": "python",
   "name": "conda-env-MLHyperparameterTuning-py"
  },
  "language_info": {
   "codemirror_mode": {
    "name": "ipython",
    "version": 3
   },
   "file_extension": ".py",
   "mimetype": "text/x-python",
   "name": "python",
   "nbconvert_exporter": "python",
   "pygments_lexer": "ipython3",
   "version": "3.6.7"
  },
  "pycharm": {
   "stem_cell": {
    "cell_type": "raw",
    "source": [],
    "metadata": {
     "collapsed": false
    }
   }
  }
 },
 "nbformat": 4,
 "nbformat_minor": 2
}