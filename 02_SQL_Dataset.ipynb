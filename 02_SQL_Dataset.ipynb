{
 "cells": [
  {
   "cell_type": "code",
   "execution_count": 1,
   "metadata": {},
   "outputs": [],
   "source": [
    "import logging\n",
    "\n",
    "from matplotlib import pyplot as plt\n",
    "import numpy as np\n",
    "import pandas as pd\n",
    "\n",
    "import azureml.core\n",
    "from azureml.core.experiment import Experiment\n",
    "from azureml.core.workspace import Workspace\n",
    "from azureml.train.automl import AutoMLConfig"
   ]
  },
  {
   "cell_type": "code",
   "execution_count": 2,
   "metadata": {},
   "outputs": [
    {
     "name": "stderr",
     "output_type": "stream",
     "text": [
      "WARNING - Warning: Falling back to use azure cli login credentials.\n",
      "If you run your code in unattended mode, i.e., where you can't give a user input, then we recommend to use ServicePrincipalAuthentication or MsiAuthentication.\n",
      "Please refer to aka.ms/aml-notebook-auth for different authentication mechanisms in azureml-sdk.\n"
     ]
    }
   ],
   "source": [
    "from azureml.core import Workspace\n",
    "\n",
    "ws = Workspace.from_config()"
   ]
  },
  {
   "cell_type": "code",
   "execution_count": 24,
   "metadata": {},
   "outputs": [],
   "source": [
    "from azureml.core import Datastore\n",
    "\n",
    "sql_datastore = Datastore.get(workspace=ws, datastore_name=\"ado_sql_datastore\")"
   ]
  },
  {
   "cell_type": "code",
   "execution_count": 33,
   "metadata": {},
   "outputs": [
    {
     "data": {
      "text/plain": [
       "{\n",
       "  \"source\": null,\n",
       "  \"definition\": [\n",
       "    \"ReadDatastoreSql\"\n",
       "  ],\n",
       "  \"registration\": {\n",
       "    \"id\": \"204280d1-db26-4572-9925-c5da2501c8bc\",\n",
       "    \"name\": \"ai_ag_ado_improvements\",\n",
       "    \"version\": 1,\n",
       "    \"description\": \"Improvements from Azure DevOps\",\n",
       "    \"workspace\": \"Workspace.create(name='dciborowws', subscription_id='0ca618d2-22a8-413a-96d0-0f1b531129c3', resource_group='dciborow-ado-test')\"\n",
       "  }\n",
       "}"
      ]
     },
     "execution_count": 33,
     "metadata": {},
     "output_type": "execute_result"
    }
   ],
   "source": [
    "from azureml.core import Dataset\n",
    "\n",
    "improvements_sql_ds = Dataset.Tabular.from_sql_query((sql_datastore, 'SELECT * FROM FeedbackItemImprovements'))\n",
    "\n",
    "improvements_sql_ds.register(workspace=ws,\n",
    "                          name=\"ai_ag_ado_improvements\",\n",
    "                          description = \"Improvements from Azure DevOps\")"
   ]
  },
  {
   "cell_type": "code",
   "execution_count": 34,
   "metadata": {},
   "outputs": [
    {
     "data": {
      "text/plain": [
       "{\n",
       "  \"source\": null,\n",
       "  \"definition\": [\n",
       "    \"ReadDatastoreSql\"\n",
       "  ],\n",
       "  \"registration\": {\n",
       "    \"id\": \"e718c0cc-341a-4cba-b2a9-fbaf54bea4b7\",\n",
       "    \"name\": \"ai_ag_ado_feedack\",\n",
       "    \"version\": 1,\n",
       "    \"description\": \"Feedback from Azure DevOps\",\n",
       "    \"workspace\": \"Workspace.create(name='dciborowws', subscription_id='0ca618d2-22a8-413a-96d0-0f1b531129c3', resource_group='dciborow-ado-test')\"\n",
       "  }\n",
       "}"
      ]
     },
     "execution_count": 34,
     "metadata": {},
     "output_type": "execute_result"
    }
   ],
   "source": [
    "from azureml.core import Dataset\n",
    "\n",
    "feedback_sql_ds = Dataset.Tabular.from_sql_query((sql_datastore, 'SELECT * FROM FeedbackItems'))\n",
    "\n",
    "feedback_sql_ds.register(workspace=ws,\n",
    "                          name=\"ai_ag_ado_feedack\",\n",
    "                          description = \"Feedback from Azure DevOps\")"
   ]
  },
  {
   "cell_type": "code",
   "execution_count": null,
   "metadata": {},
   "outputs": [],
   "source": []
  }
 ],
 "metadata": {
  "kernelspec": {
   "display_name": "Python [conda env:MLHyperparameterTuning] *",
   "language": "python",
   "name": "conda-env-MLHyperparameterTuning-py"
  },
  "language_info": {
   "codemirror_mode": {
    "name": "ipython",
    "version": 3
   },
   "file_extension": ".py",
   "mimetype": "text/x-python",
   "name": "python",
   "nbconvert_exporter": "python",
   "pygments_lexer": "ipython3",
   "version": "3.6.7"
  }
 },
 "nbformat": 4,
 "nbformat_minor": 2
}
